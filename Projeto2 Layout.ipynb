{
 "cells": [
  {
   "cell_type": "markdown",
   "metadata": {},
   "source": [
    "___\n",
    "# Ciência dos Dados - PROJETO 2"
   ]
  },
  {
   "cell_type": "markdown",
   "metadata": {},
   "source": [
    "___\n",
    "## Nome: Gabriel Brey Gomes \n",
    "___"
   ]
  },
  {
   "cell_type": "markdown",
   "metadata": {},
   "source": [
    "___\n",
    "\n",
    "## 1. Problema\n",
    "\n",
    "O Classificador Naive-Bayes, o qual se baseia no uso do teorema de Bayes, é largamente utilizado em filtros anti-spam de e-mails. O classificador permite calcular qual a probabilidade de uma mensagem ser SPAM considerando as palavras em seu conteúdo e, de forma complementar, permite calcular a probabilidade de uma mensagem ser HAM dada as palavras descritas na mensagem.\n",
    "\n",
    "Para realizar o MVP (minimum viable product) do projeto, você precisa programar uma versão do classificador que \"aprende\" o que é uma mensagem SPAM considerando uma base de treinamento e comparar o desempenho dos resultados com uma base de testes. \n"
   ]
  },
  {
   "cell_type": "markdown",
   "metadata": {},
   "source": [
    "___\n",
    "## 2. Separação da base de dados em Treinamento e Teste\n",
    "\n",
    "A base de dados deve ser separada em duas partes, aleatoriamente, considerando: \n",
    "    \n",
    "    75% dos dados para a parte Treinamento; e\n",
    "    25% dos dados para a parte Teste."
   ]
  },
  {
   "cell_type": "code",
   "execution_count": 75,
   "metadata": {
    "collapsed": true
   },
   "outputs": [],
   "source": [
    "import pandas as pd\n",
    "import os\n",
    "import numpy as np"
   ]
  },
  {
   "cell_type": "code",
   "execution_count": 76,
   "metadata": {},
   "outputs": [
    {
     "name": "stdout",
     "output_type": "stream",
     "text": [
      "Esperamos trabalhar no diretório\n",
      "C:\\Users\\Usuário\\Documents\\#insper#\\CD-DP\\projeto 2\n"
     ]
    }
   ],
   "source": [
    "print('Esperamos trabalhar no diretório')\n",
    "print(os.getcwd())"
   ]
  },
  {
   "cell_type": "code",
   "execution_count": 77,
   "metadata": {
    "collapsed": true
   },
   "outputs": [],
   "source": [
    "dados = pd.read_excel('spamhamV2.xlsx')\n"
   ]
  },
  {
   "cell_type": "code",
   "execution_count": null,
   "metadata": {
    "collapsed": true
   },
   "outputs": [],
   "source": []
  },
  {
   "cell_type": "code",
   "execution_count": 78,
   "metadata": {
    "collapsed": true
   },
   "outputs": [],
   "source": [
    "dados = dados.sample(frac=1)\n",
    "treinamento = int(5572*0.75)\n",
    "teste = int(5572*0.25)\n",
    "\n",
    "dados_treinamento = dados.iloc[0:treinamento] \n",
    "dados_treinamento = dados_treinamento.reset_index(drop=True)\n",
    "\n",
    "dados_teste = dados.iloc[treinamento:5572] \n",
    "dados_teste = dados_teste.reset_index(drop=True)\n",
    "\n",
    "\n"
   ]
  },
  {
   "cell_type": "markdown",
   "metadata": {},
   "source": [
    "___\n",
    "## 3. Classificador Naive-Bayes"
   ]
  },
  {
   "cell_type": "code",
   "execution_count": 79,
   "metadata": {
    "collapsed": true
   },
   "outputs": [],
   "source": [
    "def remover_caracteres(nome):\n",
    "    nome = nome.replace('.', '').replace(':', ' ').replace('\"', ' ').replace(')', '').replace('(', '') \n",
    "    return nome"
   ]
  },
  {
   "cell_type": "code",
   "execution_count": 80,
   "metadata": {
    "collapsed": true
   },
   "outputs": [],
   "source": [
    "dados_treinamento['Email'] = dados_treinamento['Email'].apply(remover_caracteres)\n",
    "\n",
    "\n",
    "dados_teste['Email'] = dados_teste['Email'].apply(remover_caracteres)\n"
   ]
  },
  {
   "cell_type": "code",
   "execution_count": 81,
   "metadata": {
    "collapsed": true
   },
   "outputs": [],
   "source": [
    "Cemail = pd.Series(np.sum(dados_treinamento.Email + \" \").split())\n",
    "Cclass = pd.Series(np.sum(dados_treinamento.Class + \" \").split())"
   ]
  },
  {
   "cell_type": "code",
   "execution_count": 82,
   "metadata": {},
   "outputs": [
    {
     "name": "stdout",
     "output_type": "stream",
     "text": [
      "probabilidade de ser Spam : 0.13519980856664274\n",
      "probabilidade de Não ser Spam : 0.8648001914333573\n"
     ]
    }
   ],
   "source": [
    "prob = Cclass.value_counts('spam')\n",
    "p_Spam = prob.iloc[1]\n",
    "p_Ham = prob.iloc[0]\n",
    "\n",
    "print('probabilidade de ser Spam : {0}'.format(p_Spam))\n",
    "print('probabilidade de Não ser Spam : {0}'.format(p_Ham))"
   ]
  },
  {
   "cell_type": "code",
   "execution_count": 83,
   "metadata": {
    "collapsed": true
   },
   "outputs": [],
   "source": [
    "dadosL_Spam = dados_treinamento[dados_treinamento.Class == 'spam']\n",
    "dadosL_nSpam = dados_treinamento[dados_treinamento.Class == 'ham']\n"
   ]
  },
  {
   "cell_type": "code",
   "execution_count": 84,
   "metadata": {},
   "outputs": [],
   "source": [
    "lista_Spam = np.sum(dadosL_Spam.Email + \" \").split()\n",
    "S = pd.Series(lista_Spam)\n",
    "lista_nSpam = np.sum(dadosL_nSpam.Email + \" \").split()\n",
    "H = pd.Series(lista_Spam)\n",
    "TSpam = len(lista_Spam)\n",
    "TnSpam = len(lista_nSpam)"
   ]
  },
  {
   "cell_type": "code",
   "execution_count": 85,
   "metadata": {
    "collapsed": true
   },
   "outputs": [],
   "source": [
    "def classifica(a):\n",
    "    f = a.split(' ')\n",
    "    pSpam = []\n",
    "    pHam = []\n",
    "    for i in range(len(f)):    \n",
    "        pSpam.append((lista_Spam.count(f[i])+1)/(TSpam+len(f)))\n",
    "        pHam.append((lista_nSpam.count(f[i])+1)/(TnSpam+len(f)))\n",
    "    PSpam = np.prod(pSpam)\n",
    "    PHam = np.prod(pHam)\n",
    "    if PSpam > PHam:\n",
    "        return \"spam\"\n",
    "    else:\n",
    "        return \"ham\""
   ]
  },
  {
   "cell_type": "code",
   "execution_count": 86,
   "metadata": {},
   "outputs": [],
   "source": [
    "T = []\n",
    "for f in range(len(dados_teste.Email)):\n",
    "  T.append(classifica(dados_teste.Email[f]))\n",
    "dados_teste[\"resultado\"] = pd.Series(T)"
   ]
  },
  {
   "cell_type": "code",
   "execution_count": 87,
   "metadata": {},
   "outputs": [
    {
     "name": "stdout",
     "output_type": "stream",
     "text": [
      "positivo falso:4\n",
      "positivo verdadeiro:1005\n",
      "negativo verdadeiro:178\n",
      "negativo falso: 206\n"
     ]
    }
   ],
   "source": [
    "dados_teste.loc[(dados_teste.Class == \"spam\") & (dados_teste.resultado == \"spam\"),'verificação'] = 'N-V'\n",
    "dados_teste.loc[(dados_teste.Class == \"ham\") & (dados_teste.resultado == \"ham\"),'verificação'] = 'P-V'\n",
    "dados_teste.loc[(dados_teste.Class == \"spam\") & (dados_teste.resultado == \"ham\"),'verificação'] = 'P-F'\n",
    "dados_teste.loc[(dados_teste.Class == \"ham\") & (dados_teste.resultado == \"spam\"),'verificação'] = 'N-F'\n",
    "\n",
    "Negativo_Verdadeiro = dados_teste.verificação.value_counts()['N-V']\n",
    "Positivo_Verdadeiro = dados_teste.verificação.value_counts()['P-V']\n",
    "Negativo_Falso = dados_teste.verificação.value_counts()['N-F']\n",
    "Positivo_Falso = dados_teste.verificação.value_counts()['P-F']\n",
    "\n",
    "print(\"positivo falso:{0}\".format(Positivo_Falso))\n",
    "print(\"positivo verdadeiro:{0}\".format(Positivo_Verdadeiro))\n",
    "print(\"negativo verdadeiro:{0}\".format(Negativo_Verdadeiro))\n",
    "print(\"negativo falso: {0}\".format(Negativo_Falso ))"
   ]
  },
  {
   "cell_type": "code",
   "execution_count": 88,
   "metadata": {},
   "outputs": [
    {
     "name": "stdout",
     "output_type": "stream",
     "text": [
      "positivo falso: 0.2871500358937545%\n",
      "positivo verdadeiro: 72.14644651830582%\n",
      "negativo verdadeiro: 12.778176597272076%\n",
      "negativo falso: 14.788226848528357%\n"
     ]
    }
   ],
   "source": [
    "print(\"positivo falso: {0}%\".format((Positivo_Falso/(len(dados_teste))*100)))\n",
    "print(\"positivo verdadeiro: {0}%\".format((Positivo_Verdadeiro/(len(dados_teste))*100)))\n",
    "print(\"negativo verdadeiro: {0}%\".format((Negativo_Verdadeiro/(len(dados_teste))*100)))\n",
    "print(\"negativo falso: {0}%\".format((Negativo_Falso/(len(dados_teste)))*100))"
   ]
  },
  {
   "cell_type": "markdown",
   "metadata": {},
   "source": [
    "Concluímos que nosso teste é razoável, chegando a 75% de acerto, positivos falsos são inferior a 1% o que é bom pois o usuário perde o mínimo de e-mails Ham, mas em negativos falsos chegou a 14.5% que faz com que o usuário receba mais Spams. "
   ]
  },
  {
   "cell_type": "markdown",
   "metadata": {},
   "source": [
    "___\n",
    "## 4. Curva ROC"
   ]
  },
  {
   "cell_type": "code",
   "execution_count": 21,
   "metadata": {},
   "outputs": [],
   "source": []
  },
  {
   "cell_type": "code",
   "execution_count": null,
   "metadata": {
    "collapsed": true
   },
   "outputs": [],
   "source": []
  },
  {
   "cell_type": "code",
   "execution_count": null,
   "metadata": {
    "collapsed": true
   },
   "outputs": [],
   "source": []
  },
  {
   "cell_type": "code",
   "execution_count": null,
   "metadata": {
    "collapsed": true
   },
   "outputs": [],
   "source": []
  },
  {
   "cell_type": "code",
   "execution_count": null,
   "metadata": {
    "collapsed": true
   },
   "outputs": [],
   "source": []
  },
  {
   "cell_type": "code",
   "execution_count": null,
   "metadata": {
    "collapsed": true
   },
   "outputs": [],
   "source": []
  }
 ],
 "metadata": {
  "anaconda-cloud": {},
  "kernelspec": {
   "display_name": "Python 3",
   "language": "python",
   "name": "python3"
  },
  "language_info": {
   "codemirror_mode": {
    "name": "ipython",
    "version": 3
   },
   "file_extension": ".py",
   "mimetype": "text/x-python",
   "name": "python",
   "nbconvert_exporter": "python",
   "pygments_lexer": "ipython3",
   "version": "3.6.0"
  }
 },
 "nbformat": 4,
 "nbformat_minor": 1
}
